{
 "cells": [
  {
   "cell_type": "code",
   "execution_count": null,
   "id": "5ad367a5-1398-40ac-8a7f-ba620a542fe2",
   "metadata": {},
   "outputs": [],
   "source": [
    "#创建网页下载或者观看直播\n",
    "!python -m http.server 6006"
   ]
  },
  {
   "cell_type": "code",
   "execution_count": null,
   "id": "0dfed602-9a0e-43ef-8955-43dde10280d4",
   "metadata": {},
   "outputs": [],
   "source": []
  }
 ],
 "metadata": {
  "kernelspec": {
   "display_name": "Python 3 (ipykernel)",
   "language": "python",
   "name": "python3"
  },
  "language_info": {
   "codemirror_mode": {
    "name": "ipython",
    "version": 3
   },
   "file_extension": ".py",
   "mimetype": "text/x-python",
   "name": "python",
   "nbconvert_exporter": "python",
   "pygments_lexer": "ipython3",
   "version": "3.8.10"
  }
 },
 "nbformat": 4,
 "nbformat_minor": 5
}
