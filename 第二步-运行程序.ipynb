{
 "cells": [
  {
   "cell_type": "code",
   "execution_count": null,
   "id": "04868127-4c2a-4241-bde4-e44853374c6f",
   "metadata": {},
   "outputs": [],
   "source": [
    "#第二步-运行程序\n",
    "#或者建议新开一个终端,复制下面的命令进去,请去掉前面的叹号.这样可以清屏\n",
    "!python 抖音直播录制_230507-linux.py"
   ]
  },
  {
   "cell_type": "code",
   "execution_count": null,
   "id": "eca66c54-c742-4f40-a02e-d862e20222bf",
   "metadata": {},
   "outputs": [],
   "source": []
  }
 ],
 "metadata": {
  "kernelspec": {
   "display_name": "Python 3 (ipykernel)",
   "language": "python",
   "name": "python3"
  },
  "language_info": {
   "codemirror_mode": {
    "name": "ipython",
    "version": 3
   },
   "file_extension": ".py",
   "mimetype": "text/x-python",
   "name": "python",
   "nbconvert_exporter": "python",
   "pygments_lexer": "ipython3",
   "version": "3.8.10"
  }
 },
 "nbformat": 4,
 "nbformat_minor": 5
}
