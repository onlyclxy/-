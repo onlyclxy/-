{
 "cells": [
  {
   "cell_type": "code",
   "execution_count": null,
   "id": "ccb2989c-6169-4b01-b077-799cf15212e3",
   "metadata": {},
   "outputs": [],
   "source": [
    "#开启学术加速\n",
    "!export http_proxy=http://192.168.1.174:12798 && export https_proxy=http://192.168.1.174:12798"
   ]
  },
  {
   "cell_type": "code",
   "execution_count": null,
   "id": "fa954a2f-e778-4426-a3e3-55555987bf10",
   "metadata": {},
   "outputs": [],
   "source": [
    "#安装ffmpeg1\n",
    "!su -c \"apt-get update\""
   ]
  },
  {
   "cell_type": "code",
   "execution_count": null,
   "id": "17220baf-2000-40a0-8a85-2d8b3a0ef7db",
   "metadata": {},
   "outputs": [],
   "source": [
    "#安装ffmpeg2\n",
    "!su -c \"apt-get -y install ffmpeg\""
   ]
  },
  {
   "cell_type": "code",
   "execution_count": null,
   "id": "5ec3b6b4-b599-4064-9fb2-401303e2bc38",
   "metadata": {},
   "outputs": [],
   "source": [
    "#显示ffmpeg版本\n",
    "!ffmpeg -version"
   ]
  },
  {
   "cell_type": "code",
   "execution_count": null,
   "id": "1758e13e-fda9-4035-a2a7-6b44c5138a60",
   "metadata": {},
   "outputs": [],
   "source": []
  }
 ],
 "metadata": {
  "kernelspec": {
   "display_name": "Python 3 (ipykernel)",
   "language": "python",
   "name": "python3"
  },
  "language_info": {
   "codemirror_mode": {
    "name": "ipython",
    "version": 3
   },
   "file_extension": ".py",
   "mimetype": "text/x-python",
   "name": "python",
   "nbconvert_exporter": "python",
   "pygments_lexer": "ipython3",
   "version": "3.8.10"
  }
 },
 "nbformat": 4,
 "nbformat_minor": 5
}
